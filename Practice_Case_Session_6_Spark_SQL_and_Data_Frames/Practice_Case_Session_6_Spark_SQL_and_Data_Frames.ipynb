{
 "cells": [
  {
   "cell_type": "markdown",
   "metadata": {
    "id": "jsLL3MSHe2Q7"
   },
   "source": [
    "# PySpark Installation"
   ]
  },
  {
   "cell_type": "code",
   "execution_count": 174,
   "metadata": {
    "id": "Kyz_ATpFe7D9"
   },
   "outputs": [],
   "source": [
    "!pip install -q findspark"
   ]
  },
  {
   "cell_type": "code",
   "execution_count": 175,
   "metadata": {
    "colab": {
     "base_uri": "https://localhost:8080/"
    },
    "id": "APrvnKp8fBFD",
    "outputId": "cbef6ed3-3706-4d92-e843-ab76f71373b1"
   },
   "outputs": [
    {
     "name": "stdout",
     "output_type": "stream",
     "text": [
      "Looking in indexes: https://pypi.org/simple, https://us-python.pkg.dev/colab-wheels/public/simple/\n",
      "Requirement already satisfied: pyspark in /usr/local/lib/python3.7/dist-packages (3.3.0)\n",
      "Requirement already satisfied: py4j==0.10.9.5 in /usr/local/lib/python3.7/dist-packages (from pyspark) (0.10.9.5)\n"
     ]
    }
   ],
   "source": [
    "!pip install pyspark"
   ]
  },
  {
   "cell_type": "code",
   "execution_count": 176,
   "metadata": {
    "id": "FHeDus9tfGe6"
   },
   "outputs": [],
   "source": [
    "import findspark \n",
    "findspark.init()"
   ]
  },
  {
   "cell_type": "code",
   "execution_count": 177,
   "metadata": {
    "colab": {
     "base_uri": "https://localhost:8080/",
     "height": 35
    },
    "id": "M_jBrYdlhW3z",
    "outputId": "286b6874-cfbd-496c-d360-6df6b7cf6aa3"
   },
   "outputs": [
    {
     "data": {
      "application/vnd.google.colaboratory.intrinsic+json": {
       "type": "string"
      },
      "text/plain": [
       "'/usr/local/lib/python3.7/dist-packages/pyspark'"
      ]
     },
     "execution_count": 177,
     "metadata": {},
     "output_type": "execute_result"
    }
   ],
   "source": [
    "findspark.find()"
   ]
  },
  {
   "cell_type": "code",
   "execution_count": 178,
   "metadata": {
    "id": "SI6qZPJmfX2A"
   },
   "outputs": [],
   "source": [
    "import pyspark"
   ]
  },
  {
   "cell_type": "code",
   "execution_count": 179,
   "metadata": {
    "colab": {
     "base_uri": "https://localhost:8080/"
    },
    "id": "r0G4zdRZv7hX",
    "outputId": "93494563-aea9-4b97-c24c-6ddc9ac087d4"
   },
   "outputs": [
    {
     "name": "stdout",
     "output_type": "stream",
     "text": [
      "3.3.0\n"
     ]
    }
   ],
   "source": [
    "print(pyspark.__version__)"
   ]
  },
  {
   "cell_type": "code",
   "execution_count": 180,
   "metadata": {
    "colab": {
     "base_uri": "https://localhost:8080/",
     "height": 35
    },
    "id": "tWf3YeZMfc91",
    "outputId": "03b1b14f-eefa-407e-cda1-c58f778cb823"
   },
   "outputs": [
    {
     "data": {
      "application/vnd.google.colaboratory.intrinsic+json": {
       "type": "string"
      },
      "text/plain": [
       "'/usr/local/lib/python3.7/dist-packages/pyspark/__init__.py'"
      ]
     },
     "execution_count": 180,
     "metadata": {},
     "output_type": "execute_result"
    }
   ],
   "source": [
    "pyspark.__file__"
   ]
  },
  {
   "cell_type": "markdown",
   "metadata": {
    "id": "Cc0dd6cog-Zv"
   },
   "source": [
    "# Creating Session"
   ]
  },
  {
   "cell_type": "code",
   "execution_count": 181,
   "metadata": {
    "id": "zPBQ-hQIfec6"
   },
   "outputs": [],
   "source": [
    "from pyspark.sql import SparkSession"
   ]
  },
  {
   "cell_type": "code",
   "execution_count": 182,
   "metadata": {
    "id": "bxu_LG4rfgaG"
   },
   "outputs": [],
   "source": [
    "spark = SparkSession.builder \\\n",
    "    .master(\"local[*]\") \\\n",
    "    .appName('FirstSpark') \\\n",
    "    .getOrCreate()"
   ]
  },
  {
   "cell_type": "markdown",
   "metadata": {
    "id": "OThm4WS1khdm"
   },
   "source": [
    "# Data Preparation"
   ]
  },
  {
   "cell_type": "code",
   "execution_count": 183,
   "metadata": {
    "colab": {
     "base_uri": "https://localhost:8080/"
    },
    "id": "0kbM8SVTi43R",
    "outputId": "76058f05-6319-4193-f684-d9c73793268e"
   },
   "outputs": [
    {
     "name": "stdout",
     "output_type": "stream",
     "text": [
      "--2022-10-03 11:35:39--  https://d37ci6vzurychx.cloudfront.net/trip-data/green_tripdata_2021-02.parquet\n",
      "Resolving d37ci6vzurychx.cloudfront.net (d37ci6vzurychx.cloudfront.net)... 108.138.90.118, 108.138.90.225, 108.138.90.71, ...\n",
      "Connecting to d37ci6vzurychx.cloudfront.net (d37ci6vzurychx.cloudfront.net)|108.138.90.118|:443... connected.\n",
      "HTTP request sent, awaiting response... 200 OK\n",
      "Length: 1145679 (1.1M) [binary/octet-stream]\n",
      "Saving to: ‘green_tripdata_2021-02.parquet.1’\n",
      "\n",
      "\r",
      "          green_tri   0%[                    ]       0  --.-KB/s               \r",
      "green_tripdata_2021 100%[===================>]   1.09M  --.-KB/s    in 0.03s   \n",
      "\n",
      "2022-10-03 11:35:39 (31.2 MB/s) - ‘green_tripdata_2021-02.parquet.1’ saved [1145679/1145679]\n",
      "\n"
     ]
    }
   ],
   "source": [
    "#Download Data Green Taxi\n",
    "!wget https://d37ci6vzurychx.cloudfront.net/trip-data/green_tripdata_2021-02.parquet"
   ]
  },
  {
   "cell_type": "code",
   "execution_count": 184,
   "metadata": {
    "colab": {
     "base_uri": "https://localhost:8080/"
    },
    "id": "MQ2DCILTjPHL",
    "outputId": "e22d16d0-56b2-4ac8-a622-0b97c1a49280"
   },
   "outputs": [
    {
     "name": "stdout",
     "output_type": "stream",
     "text": [
      "--2022-10-03 11:35:40--  https://d37ci6vzurychx.cloudfront.net/trip-data/yellow_tripdata_2021-02.parquet\n",
      "Resolving d37ci6vzurychx.cloudfront.net (d37ci6vzurychx.cloudfront.net)... 108.138.90.118, 108.138.90.225, 108.138.90.71, ...\n",
      "Connecting to d37ci6vzurychx.cloudfront.net (d37ci6vzurychx.cloudfront.net)|108.138.90.118|:443... connected.\n",
      "HTTP request sent, awaiting response... 200 OK\n",
      "Length: 21777258 (21M) [application/x-www-form-urlencoded]\n",
      "Saving to: ‘yellow_tripdata_2021-02.parquet.1’\n",
      "\n",
      "yellow_tripdata_202 100%[===================>]  20.77M  70.0MB/s    in 0.3s    \n",
      "\n",
      "2022-10-03 11:35:40 (70.0 MB/s) - ‘yellow_tripdata_2021-02.parquet.1’ saved [21777258/21777258]\n",
      "\n"
     ]
    }
   ],
   "source": [
    "#Download Data Green Yellow\n",
    "!wget https://d37ci6vzurychx.cloudfront.net/trip-data/yellow_tripdata_2021-02.parquet"
   ]
  },
  {
   "cell_type": "code",
   "execution_count": 185,
   "metadata": {
    "id": "RrLtsed4jX_-"
   },
   "outputs": [],
   "source": [
    "df_green = spark.read.parquet('green_tripdata_2021-02.parquet')"
   ]
  },
  {
   "cell_type": "code",
   "execution_count": 186,
   "metadata": {
    "id": "uabXoLJ9kAA9"
   },
   "outputs": [],
   "source": [
    "df_yellow = spark.read.parquet('yellow_tripdata_2021-02.parquet')"
   ]
  },
  {
   "cell_type": "code",
   "execution_count": 187,
   "metadata": {
    "colab": {
     "base_uri": "https://localhost:8080/"
    },
    "id": "9iGVNSvZlCT1",
    "outputId": "7933379f-c2b2-4544-99a2-231277c3ffcf"
   },
   "outputs": [
    {
     "name": "stdout",
     "output_type": "stream",
     "text": [
      "DataFrame df_green Rows count : 64572\n",
      "DataFrame df_green Columns count : 20\n"
     ]
    }
   ],
   "source": [
    "# Get row count\n",
    "rows = df_green.count()\n",
    "print(f\"DataFrame df_green Rows count : {rows}\")\n",
    "\n",
    "# Get columns count\n",
    "cols = len(df_green.columns)\n",
    "print(f\"DataFrame df_green Columns count : {cols}\")"
   ]
  },
  {
   "cell_type": "code",
   "execution_count": 188,
   "metadata": {
    "colab": {
     "base_uri": "https://localhost:8080/"
    },
    "id": "NdFvyR1_leUP",
    "outputId": "592a8f59-f253-40ad-d50c-e71b08e8ce13"
   },
   "outputs": [
    {
     "name": "stdout",
     "output_type": "stream",
     "text": [
      "DataFrame df_yellow Rows count : 1371709\n",
      "DataFrame df_yellow Columns count : 19\n"
     ]
    }
   ],
   "source": [
    "# Get row count\n",
    "rows = df_yellow.count()\n",
    "print(f\"DataFrame df_yellow Rows count : {rows}\")\n",
    "\n",
    "# Get columns count\n",
    "cols = len(df_yellow.columns)\n",
    "print(f\"DataFrame df_yellow Columns count : {cols}\")"
   ]
  },
  {
   "cell_type": "code",
   "execution_count": 189,
   "metadata": {
    "colab": {
     "base_uri": "https://localhost:8080/"
    },
    "id": "2CgD6HxCk4lj",
    "outputId": "a897c7fa-a106-45bc-d09e-e436c98cd92e"
   },
   "outputs": [
    {
     "name": "stdout",
     "output_type": "stream",
     "text": [
      "+--------+--------------------+---------------------+------------------+----------+------------+------------+---------------+-------------+-----------+-----+-------+----------+------------+---------+---------------------+------------+------------+---------+--------------------+\n",
      "|VendorID|lpep_pickup_datetime|lpep_dropoff_datetime|store_and_fwd_flag|RatecodeID|PULocationID|DOLocationID|passenger_count|trip_distance|fare_amount|extra|mta_tax|tip_amount|tolls_amount|ehail_fee|improvement_surcharge|total_amount|payment_type|trip_type|congestion_surcharge|\n",
      "+--------+--------------------+---------------------+------------------+----------+------------+------------+---------------+-------------+-----------+-----+-------+----------+------------+---------+---------------------+------------+------------+---------+--------------------+\n",
      "|       2| 2021-02-01 00:34:03|  2021-02-01 00:51:58|                 N|       1.0|         130|         205|            5.0|         3.66|       14.0|  0.5|    0.5|      10.0|         0.0|     null|                  0.3|        25.3|         1.0|      1.0|                 0.0|\n",
      "|       2| 2021-02-01 00:04:00|  2021-02-01 00:10:30|                 N|       1.0|         152|         244|            1.0|          1.1|        6.5|  0.5|    0.5|       0.0|         0.0|     null|                  0.3|         7.8|         2.0|      1.0|                 0.0|\n",
      "|       2| 2021-02-01 00:18:51|  2021-02-01 00:34:06|                 N|       1.0|         152|          48|            1.0|         4.93|       16.5|  0.5|    0.5|       0.0|         0.0|     null|                  0.3|       20.55|         2.0|      1.0|                2.75|\n",
      "|       2| 2021-02-01 00:53:27|  2021-02-01 01:11:41|                 N|       1.0|         152|         241|            1.0|          6.7|       21.0|  0.5|    0.5|       0.0|         0.0|     null|                  0.3|        22.3|         2.0|      1.0|                 0.0|\n",
      "|       2| 2021-02-01 00:57:46|  2021-02-01 01:06:44|                 N|       1.0|          75|          42|            1.0|         1.89|        8.5|  0.5|    0.5|      2.45|         0.0|     null|                  0.3|       12.25|         1.0|      1.0|                 0.0|\n",
      "+--------+--------------------+---------------------+------------------+----------+------------+------------+---------------+-------------+-----------+-----+-------+----------+------------+---------+---------------------+------------+------------+---------+--------------------+\n",
      "only showing top 5 rows\n",
      "\n"
     ]
    }
   ],
   "source": [
    "df_green.show(5)"
   ]
  },
  {
   "cell_type": "code",
   "execution_count": 190,
   "metadata": {
    "colab": {
     "base_uri": "https://localhost:8080/"
    },
    "id": "sofMiY1Bl3u9",
    "outputId": "96ce0da0-b031-4018-e663-046816e9bbeb"
   },
   "outputs": [
    {
     "name": "stdout",
     "output_type": "stream",
     "text": [
      "+--------+--------------------+---------------------+---------------+-------------+----------+------------------+------------+------------+------------+-----------+-----+-------+----------+------------+---------------------+------------+--------------------+-----------+\n",
      "|VendorID|tpep_pickup_datetime|tpep_dropoff_datetime|passenger_count|trip_distance|RatecodeID|store_and_fwd_flag|PULocationID|DOLocationID|payment_type|fare_amount|extra|mta_tax|tip_amount|tolls_amount|improvement_surcharge|total_amount|congestion_surcharge|airport_fee|\n",
      "+--------+--------------------+---------------------+---------------+-------------+----------+------------------+------------+------------+------------+-----------+-----+-------+----------+------------+---------------------+------------+--------------------+-----------+\n",
      "|       1| 2021-02-01 00:40:47|  2021-02-01 00:48:28|            1.0|          2.3|       1.0|                 N|         141|         226|           2|        8.5|  3.0|    0.5|       0.0|         0.0|                  0.3|        12.3|                 2.5|       null|\n",
      "|       1| 2021-02-01 00:07:44|  2021-02-01 00:20:31|            1.0|          1.6|       1.0|                 N|          43|         263|           2|        9.5|  3.0|    0.5|       0.0|         0.0|                  0.3|        13.3|                 0.0|       null|\n",
      "|       1| 2021-02-01 00:59:36|  2021-02-01 01:24:13|            1.0|          5.3|       1.0|                 N|         114|         263|           2|       19.0|  3.0|    0.5|       0.0|         0.0|                  0.3|        22.8|                 2.5|       null|\n",
      "|       2| 2021-02-01 00:03:26|  2021-02-01 00:16:32|            1.0|         2.79|       1.0|                 N|         236|         229|           1|       11.0|  0.5|    0.5|      2.96|         0.0|                  0.3|       17.76|                 2.5|       null|\n",
      "|       2| 2021-02-01 00:20:20|  2021-02-01 00:24:03|            2.0|         0.64|       1.0|                 N|         229|         140|           1|        4.5|  0.5|    0.5|      1.66|         0.0|                  0.3|        9.96|                 2.5|       null|\n",
      "+--------+--------------------+---------------------+---------------+-------------+----------+------------------+------------+------------+------------+-----------+-----+-------+----------+------------+---------------------+------------+--------------------+-----------+\n",
      "only showing top 5 rows\n",
      "\n"
     ]
    }
   ],
   "source": [
    "df_yellow.show(5)"
   ]
  },
  {
   "cell_type": "code",
   "execution_count": 191,
   "metadata": {
    "id": "GZXz4C2MnbKN"
   },
   "outputs": [],
   "source": [
    "df_green = df_green.withColumnRenamed('lpep_pickup_datetime', 'pickup_datetime').withColumnRenamed('lpep_dropoff_datetime', 'dropoff_datetime')\n",
    "df_yellow = df_yellow.withColumnRenamed('tpep_pickup_datetime', 'pickup_datetime').withColumnRenamed('tpep_dropoff_datetime', 'dropoff_datetime')"
   ]
  },
  {
   "cell_type": "code",
   "execution_count": 192,
   "metadata": {
    "id": "AVbFezY5l-o3"
   },
   "outputs": [],
   "source": [
    "in_col = []\n",
    "not_in_col = []\n",
    "\n",
    "yellow_columns = set(df_yellow.columns)\n",
    "\n",
    "for col in df_green.columns:\n",
    "    if col in yellow_columns:\n",
    "      in_col.append(col)\n",
    "    else:\n",
    "      not_in_col.append(col)"
   ]
  },
  {
   "cell_type": "code",
   "execution_count": 193,
   "metadata": {
    "colab": {
     "base_uri": "https://localhost:8080/"
    },
    "id": "60RjfXC6l-sc",
    "outputId": "687497d4-c7c2-4c9d-b50b-01924d6c8750"
   },
   "outputs": [
    {
     "data": {
      "text/plain": [
       "['ehail_fee', 'trip_type']"
      ]
     },
     "execution_count": 193,
     "metadata": {},
     "output_type": "execute_result"
    }
   ],
   "source": [
    "not_in_col"
   ]
  },
  {
   "cell_type": "code",
   "execution_count": 194,
   "metadata": {
    "colab": {
     "base_uri": "https://localhost:8080/"
    },
    "id": "WtoLPnAel3yU",
    "outputId": "a07b23c5-a93e-41ee-80f1-5227235d8536"
   },
   "outputs": [
    {
     "data": {
      "text/plain": [
       "['VendorID',\n",
       " 'pickup_datetime',\n",
       " 'dropoff_datetime',\n",
       " 'store_and_fwd_flag',\n",
       " 'RatecodeID',\n",
       " 'PULocationID',\n",
       " 'DOLocationID',\n",
       " 'passenger_count',\n",
       " 'trip_distance',\n",
       " 'fare_amount',\n",
       " 'extra',\n",
       " 'mta_tax',\n",
       " 'tip_amount',\n",
       " 'tolls_amount',\n",
       " 'improvement_surcharge',\n",
       " 'total_amount',\n",
       " 'payment_type',\n",
       " 'congestion_surcharge']"
      ]
     },
     "execution_count": 194,
     "metadata": {},
     "output_type": "execute_result"
    }
   ],
   "source": [
    "in_col"
   ]
  },
  {
   "cell_type": "code",
   "execution_count": 195,
   "metadata": {
    "id": "sGh0xQMGfs-E"
   },
   "outputs": [],
   "source": [
    "from pyspark.sql import functions as F"
   ]
  },
  {
   "cell_type": "code",
   "execution_count": 196,
   "metadata": {
    "id": "XdUhSdvbkHOz"
   },
   "outputs": [],
   "source": [
    "df_green_sel = df_green \\\n",
    "    .select(in_col) \\\n",
    "    .withColumn('service_type', F.lit('green'))"
   ]
  },
  {
   "cell_type": "code",
   "execution_count": 197,
   "metadata": {
    "id": "lC0SgN2cgG9E"
   },
   "outputs": [],
   "source": [
    "df_yellow_sel = df_yellow \\\n",
    "    .select(in_col) \\\n",
    "    .withColumn('service_type', F.lit('yellow'))"
   ]
  },
  {
   "cell_type": "code",
   "execution_count": 198,
   "metadata": {
    "id": "diwi9xafgJon"
   },
   "outputs": [],
   "source": [
    "df_trips_data = df_green_sel.unionAll(df_yellow_sel)"
   ]
  },
  {
   "cell_type": "code",
   "execution_count": 199,
   "metadata": {
    "colab": {
     "base_uri": "https://localhost:8080/"
    },
    "id": "ASAcmCiGgOcJ",
    "outputId": "b22218fb-460d-47d0-b2c1-4c11c65291dd"
   },
   "outputs": [
    {
     "name": "stdout",
     "output_type": "stream",
     "text": [
      "+--------+-------------------+-------------------+------------------+----------+------------+------------+---------------+-------------+-----------+-----+-------+----------+------------+---------------------+------------+------------+--------------------+------------+\n",
      "|VendorID|    pickup_datetime|   dropoff_datetime|store_and_fwd_flag|RatecodeID|PULocationID|DOLocationID|passenger_count|trip_distance|fare_amount|extra|mta_tax|tip_amount|tolls_amount|improvement_surcharge|total_amount|payment_type|congestion_surcharge|service_type|\n",
      "+--------+-------------------+-------------------+------------------+----------+------------+------------+---------------+-------------+-----------+-----+-------+----------+------------+---------------------+------------+------------+--------------------+------------+\n",
      "|       2|2021-02-01 00:34:03|2021-02-01 00:51:58|                 N|       1.0|         130|         205|            5.0|         3.66|       14.0|  0.5|    0.5|      10.0|         0.0|                  0.3|        25.3|         1.0|                 0.0|       green|\n",
      "|       2|2021-02-01 00:04:00|2021-02-01 00:10:30|                 N|       1.0|         152|         244|            1.0|          1.1|        6.5|  0.5|    0.5|       0.0|         0.0|                  0.3|         7.8|         2.0|                 0.0|       green|\n",
      "|       2|2021-02-01 00:18:51|2021-02-01 00:34:06|                 N|       1.0|         152|          48|            1.0|         4.93|       16.5|  0.5|    0.5|       0.0|         0.0|                  0.3|       20.55|         2.0|                2.75|       green|\n",
      "|       2|2021-02-01 00:53:27|2021-02-01 01:11:41|                 N|       1.0|         152|         241|            1.0|          6.7|       21.0|  0.5|    0.5|       0.0|         0.0|                  0.3|        22.3|         2.0|                 0.0|       green|\n",
      "|       2|2021-02-01 00:57:46|2021-02-01 01:06:44|                 N|       1.0|          75|          42|            1.0|         1.89|        8.5|  0.5|    0.5|      2.45|         0.0|                  0.3|       12.25|         1.0|                 0.0|       green|\n",
      "+--------+-------------------+-------------------+------------------+----------+------------+------------+---------------+-------------+-----------+-----+-------+----------+------------+---------------------+------------+------------+--------------------+------------+\n",
      "only showing top 5 rows\n",
      "\n"
     ]
    }
   ],
   "source": [
    "df_trips_data.show(5)"
   ]
  },
  {
   "cell_type": "code",
   "execution_count": 200,
   "metadata": {
    "id": "MWcQoWR-5npD"
   },
   "outputs": [],
   "source": [
    "# df_trips_data.withColumn(\"pickup_datetime\", F.year(F.to_date(df_trips_data.pickup_datetime, \"dd/MM/yyyy\"))).show()"
   ]
  },
  {
   "cell_type": "code",
   "execution_count": 201,
   "metadata": {
    "colab": {
     "base_uri": "https://localhost:8080/"
    },
    "id": "vwen5IXyvsPg",
    "outputId": "1714cbfe-5795-47a1-9f4c-951bfd5cc596"
   },
   "outputs": [
    {
     "name": "stdout",
     "output_type": "stream",
     "text": [
      "root\n",
      " |-- VendorID: long (nullable = true)\n",
      " |-- pickup_datetime: timestamp (nullable = true)\n",
      " |-- dropoff_datetime: timestamp (nullable = true)\n",
      " |-- store_and_fwd_flag: string (nullable = true)\n",
      " |-- RatecodeID: double (nullable = true)\n",
      " |-- PULocationID: long (nullable = true)\n",
      " |-- DOLocationID: long (nullable = true)\n",
      " |-- passenger_count: double (nullable = true)\n",
      " |-- trip_distance: double (nullable = true)\n",
      " |-- fare_amount: double (nullable = true)\n",
      " |-- extra: double (nullable = true)\n",
      " |-- mta_tax: double (nullable = true)\n",
      " |-- tip_amount: double (nullable = true)\n",
      " |-- tolls_amount: double (nullable = true)\n",
      " |-- improvement_surcharge: double (nullable = true)\n",
      " |-- total_amount: double (nullable = true)\n",
      " |-- payment_type: double (nullable = true)\n",
      " |-- congestion_surcharge: double (nullable = true)\n",
      " |-- service_type: string (nullable = false)\n",
      "\n"
     ]
    }
   ],
   "source": [
    "df_trips_data.printSchema()"
   ]
  },
  {
   "cell_type": "code",
   "execution_count": 202,
   "metadata": {
    "colab": {
     "base_uri": "https://localhost:8080/"
    },
    "id": "1y29lgtBq74A",
    "outputId": "6cfa7fee-a4e6-41b8-98a6-27f966f14e7a"
   },
   "outputs": [
    {
     "name": "stdout",
     "output_type": "stream",
     "text": [
      "+------------+-------+\n",
      "|service_type|  count|\n",
      "+------------+-------+\n",
      "|       green|  64572|\n",
      "|      yellow|1371709|\n",
      "+------------+-------+\n",
      "\n"
     ]
    }
   ],
   "source": [
    "df_trips_data.groupBy('service_type').count().show()"
   ]
  },
  {
   "cell_type": "markdown",
   "metadata": {
    "id": "uWhBiTpxsvGh"
   },
   "source": [
    "# How many taxi trips were there on February 15?"
   ]
  },
  {
   "cell_type": "code",
   "execution_count": 203,
   "metadata": {
    "id": "w8Q4HQ3Vs1gc"
   },
   "outputs": [],
   "source": [
    "from pyspark.sql import functions as F\n",
    "from pyspark.sql.functions import col,lit"
   ]
  },
  {
   "cell_type": "code",
   "execution_count": 204,
   "metadata": {
    "colab": {
     "base_uri": "https://localhost:8080/"
    },
    "id": "ysxNVDjr9reJ",
    "outputId": "aeee388b-880d-4342-aaa9-daafbf3aea0e"
   },
   "outputs": [
    {
     "data": {
      "text/plain": [
       "42100"
      ]
     },
     "execution_count": 204,
     "metadata": {},
     "output_type": "execute_result"
    }
   ],
   "source": [
    "df_trips_data.select('pickup_datetime').where(F.to_date(df_trips_data.pickup_datetime)=='2021-02-15').count()"
   ]
  },
  {
   "cell_type": "markdown",
   "metadata": {
    "id": "L0FA7HgL0Ui6"
   },
   "source": [
    "# Find the longest trip for each day ?"
   ]
  },
  {
   "cell_type": "code",
   "execution_count": 205,
   "metadata": {
    "colab": {
     "base_uri": "https://localhost:8080/"
    },
    "id": "yllJoYpatvNK",
    "outputId": "dcf11379-42f0-4e40-bdbc-3c191358ad41"
   },
   "outputs": [
    {
     "name": "stdout",
     "output_type": "stream",
     "text": [
      "+------------------------+------------------+\n",
      "|to_date(pickup_datetime)|max(trip_distance)|\n",
      "+------------------------+------------------+\n",
      "|              2021-02-15|             52.89|\n",
      "|              2021-02-02|             73.24|\n",
      "|              2021-02-26|          90796.21|\n",
      "|              2021-02-21|             55.87|\n",
      "|              2021-02-05|          91134.16|\n",
      "|              2021-02-10|           60382.7|\n",
      "|              2021-02-01|             38.89|\n",
      "|              2021-02-06|              43.5|\n",
      "|              2021-02-19|              70.4|\n",
      "|              2021-02-20|         188054.03|\n",
      "|              2021-02-08|         186617.92|\n",
      "|              2021-02-09|           60382.7|\n",
      "|              2021-02-11|          43174.56|\n",
      "|              2021-02-17|         140145.44|\n",
      "|              2021-02-25|          50422.63|\n",
      "|              2021-03-01|             28.34|\n",
      "|              2021-02-27|             91.05|\n",
      "|              2021-02-24|          90073.44|\n",
      "|              2021-02-18|             75.81|\n",
      "|              2021-02-14|             58.03|\n",
      "+------------------------+------------------+\n",
      "only showing top 20 rows\n",
      "\n"
     ]
    }
   ],
   "source": [
    "df_trips_data.groupBy(F.to_date('pickup_datetime')) \\\n",
    "  .agg({'trip_distance':'max'}) \\\n",
    "  .where(F.to_date('pickup_datetime')>='2021-02-01') \\\n",
    "  .show()\n",
    "  \n",
    "  # .sort('pickup_datetime') \\"
   ]
  },
  {
   "cell_type": "markdown",
   "metadata": {
    "id": "SKKov1lY0Wba"
   },
   "source": [
    "# Find Top 5 Most frequent `dispatching_base_num` ?"
   ]
  },
  {
   "cell_type": "code",
   "execution_count": 206,
   "metadata": {
    "colab": {
     "base_uri": "https://localhost:8080/"
    },
    "id": "-aP3atGD0ZZh",
    "outputId": "4c3d7b8e-12d9-425d-97ef-2db7df503868"
   },
   "outputs": [
    {
     "name": "stdout",
     "output_type": "stream",
     "text": [
      "--2022-10-03 11:35:48--  https://d37ci6vzurychx.cloudfront.net/trip-data/fhv_tripdata_2021-02.parquet\n",
      "Resolving d37ci6vzurychx.cloudfront.net (d37ci6vzurychx.cloudfront.net)... 108.138.90.118, 108.138.90.225, 108.138.90.71, ...\n",
      "Connecting to d37ci6vzurychx.cloudfront.net (d37ci6vzurychx.cloudfront.net)|108.138.90.118|:443... connected.\n",
      "HTTP request sent, awaiting response... 200 OK\n",
      "Length: 10645466 (10M) [binary/octet-stream]\n",
      "Saving to: ‘fhv_tripdata_2021-02.parquet.2’\n",
      "\n",
      "\r",
      "          fhv_tripd   0%[                    ]       0  --.-KB/s               \r",
      "         fhv_tripda  99%[==================> ]  10.11M  50.4MB/s               \r",
      "fhv_tripdata_2021-0 100%[===================>]  10.15M  50.6MB/s    in 0.2s    \n",
      "\n",
      "2022-10-03 11:35:48 (50.6 MB/s) - ‘fhv_tripdata_2021-02.parquet.2’ saved [10645466/10645466]\n",
      "\n"
     ]
    }
   ],
   "source": [
    "!wget https://d37ci6vzurychx.cloudfront.net/trip-data/fhv_tripdata_2021-02.parquet"
   ]
  },
  {
   "cell_type": "code",
   "execution_count": 207,
   "metadata": {
    "id": "BF8J3aZPSIcX"
   },
   "outputs": [],
   "source": [
    "df_fhv = spark.read.parquet('/content/fhv_tripdata_2021-02.parquet')"
   ]
  },
  {
   "cell_type": "code",
   "execution_count": 208,
   "metadata": {
    "colab": {
     "base_uri": "https://localhost:8080/"
    },
    "id": "I0gBKjtfSIwP",
    "outputId": "27cb9a6b-a561-48a9-f213-be661ad43dbb"
   },
   "outputs": [
    {
     "name": "stdout",
     "output_type": "stream",
     "text": [
      "DataFrame df_fhv Rows count : 1037692\n",
      "DataFrame df_fhv Columns count : 7\n"
     ]
    }
   ],
   "source": [
    "# Get row count\n",
    "rows = df_fhv.count()\n",
    "print(f\"DataFrame df_fhv Rows count : {rows}\")\n",
    "\n",
    "# Get columns count\n",
    "cols = len(df_fhv.columns)\n",
    "print(f\"DataFrame df_fhv Columns count : {cols}\")"
   ]
  },
  {
   "cell_type": "code",
   "execution_count": 209,
   "metadata": {
    "colab": {
     "base_uri": "https://localhost:8080/"
    },
    "id": "H-goaeATScXI",
    "outputId": "c84ffcdb-5408-463d-d292-8827b774f278"
   },
   "outputs": [
    {
     "name": "stdout",
     "output_type": "stream",
     "text": [
      "+--------------------+-------------------+-------------------+------------+------------+-------+----------------------+\n",
      "|dispatching_base_num|    pickup_datetime|   dropOff_datetime|PUlocationID|DOlocationID|SR_Flag|Affiliated_base_number|\n",
      "+--------------------+-------------------+-------------------+------------+------------+-------+----------------------+\n",
      "|              B00013|2021-02-01 00:01:00|2021-02-01 01:33:00|        null|        null|   null|                B00014|\n",
      "|     B00021         |2021-02-01 00:55:40|2021-02-01 01:06:20|       173.0|        82.0|   null|       B00021         |\n",
      "|     B00021         |2021-02-01 00:14:03|2021-02-01 00:28:37|       173.0|        56.0|   null|       B00021         |\n",
      "|     B00021         |2021-02-01 00:27:48|2021-02-01 00:35:45|        82.0|       129.0|   null|       B00021         |\n",
      "|              B00037|2021-02-01 00:12:50|2021-02-01 00:26:38|        null|       225.0|   null|                B00037|\n",
      "+--------------------+-------------------+-------------------+------------+------------+-------+----------------------+\n",
      "only showing top 5 rows\n",
      "\n"
     ]
    }
   ],
   "source": [
    "df_fhv.show(5)"
   ]
  },
  {
   "cell_type": "code",
   "execution_count": 210,
   "metadata": {
    "colab": {
     "base_uri": "https://localhost:8080/"
    },
    "id": "TGlCmTAOSca2",
    "outputId": "c0b0ea34-ebcb-400e-a718-8c2cbd4cd490"
   },
   "outputs": [
    {
     "name": "stdout",
     "output_type": "stream",
     "text": [
      "+--------------------+-----+\n",
      "|dispatching_base_num|count|\n",
      "+--------------------+-----+\n",
      "|              B00856|35077|\n",
      "|              B01312|33089|\n",
      "|              B01145|31114|\n",
      "|              B02794|30397|\n",
      "|              B03016|29794|\n",
      "+--------------------+-----+\n",
      "only showing top 5 rows\n",
      "\n"
     ]
    }
   ],
   "source": [
    "df_fhv.groupBy('dispatching_base_num').count() \\\n",
    "  .sort('count', ascending=False) \\\n",
    "  .show(5)"
   ]
  },
  {
   "cell_type": "markdown",
   "metadata": {
    "id": "atKjOs4z0aVJ"
   },
   "source": [
    "# Find Top 5 Most common location pairs (PUlocationID and DOlocationID) ?"
   ]
  },
  {
   "cell_type": "code",
   "execution_count": 211,
   "metadata": {
    "colab": {
     "base_uri": "https://localhost:8080/"
    },
    "id": "05VwzxEU0dAd",
    "outputId": "d9e231d7-b004-49ac-9ff2-2111cc12abf2"
   },
   "outputs": [
    {
     "name": "stdout",
     "output_type": "stream",
     "text": [
      "+------------+------------+-----+\n",
      "|PUlocationID|DOlocationID|count|\n",
      "+------------+------------+-----+\n",
      "|       206.0|       206.0| 2374|\n",
      "|       221.0|       206.0| 2112|\n",
      "|       129.0|       129.0| 1902|\n",
      "|         7.0|         7.0| 1829|\n",
      "|       179.0|       179.0| 1736|\n",
      "+------------+------------+-----+\n",
      "only showing top 5 rows\n",
      "\n"
     ]
    }
   ],
   "source": [
    "df_fhv.filter('PUlocationID is not NULL AND DOlocationID is not NULL') \\\n",
    "  .groupBy(['PUlocationID','DOlocationID']) \\\n",
    "  .count().sort('count',ascending=False).show(5)"
   ]
  },
  {
   "cell_type": "markdown",
   "metadata": {
    "id": "qjBeLl2h0di7"
   },
   "source": [
    "# Write all of the result to BigQuery table (additional - point plus)"
   ]
  },
  {
   "cell_type": "code",
   "execution_count": null,
   "metadata": {
    "id": "dWS0tlXc0gb_"
   },
   "outputs": [],
   "source": [
    "from google.cloud import bigquery\n",
    "client = bigquery.Client()"
   ]
  }
 ],
 "metadata": {
  "colab": {
   "collapsed_sections": [
    "jsLL3MSHe2Q7",
    "Cc0dd6cog-Zv",
    "OThm4WS1khdm",
    "uWhBiTpxsvGh",
    "L0FA7HgL0Ui6"
   ],
   "provenance": []
  },
  "kernelspec": {
   "display_name": "Python 3 (ipykernel)",
   "language": "python",
   "name": "python3"
  },
  "language_info": {
   "codemirror_mode": {
    "name": "ipython",
    "version": 3
   },
   "file_extension": ".py",
   "mimetype": "text/x-python",
   "name": "python",
   "nbconvert_exporter": "python",
   "pygments_lexer": "ipython3",
   "version": "3.9.6"
  }
 },
 "nbformat": 4,
 "nbformat_minor": 1
}
